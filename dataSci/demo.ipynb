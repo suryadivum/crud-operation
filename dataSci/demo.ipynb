{
 "cells": [
  {
   "cell_type": "code",
   "execution_count": 2,
   "id": "7f32e82f-b7f5-4117-9432-8419c9de88f1",
   "metadata": {},
   "outputs": [],
   "source": [
    "import numpy as np\n",
    "import pandas as pd"
   ]
  },
  {
   "cell_type": "code",
   "execution_count": 3,
   "id": "4db2e827-4636-47fa-8893-168629b5888a",
   "metadata": {},
   "outputs": [],
   "source": [
    "a = np.array([5,6,7,8,9])"
   ]
  },
  {
   "cell_type": "raw",
   "id": "69767639-d4d2-4ba8-89d1-cbd3c7bab567",
   "metadata": {},
   "source": [
    "a"
   ]
  },
  {
   "cell_type": "code",
   "execution_count": 4,
   "id": "d6337df0-58e4-452c-9237-2194e880f3cb",
   "metadata": {},
   "outputs": [
    {
     "name": "stdout",
     "output_type": "stream",
     "text": [
      "(5,)\n"
     ]
    }
   ],
   "source": [
    "print(a.shape)"
   ]
  },
  {
   "cell_type": "code",
   "execution_count": 5,
   "id": "36e53d0d-da04-4ccc-8fa3-d8c9728ebcb8",
   "metadata": {},
   "outputs": [
    {
     "name": "stdout",
     "output_type": "stream",
     "text": [
      "8\n"
     ]
    }
   ],
   "source": [
    "print(a[3])"
   ]
  },
  {
   "cell_type": "code",
   "execution_count": 6,
   "id": "006362df-d5b7-4967-8b78-8b0ce550e074",
   "metadata": {},
   "outputs": [
    {
     "data": {
      "text/html": [
       "<div>\n",
       "<style scoped>\n",
       "    .dataframe tbody tr th:only-of-type {\n",
       "        vertical-align: middle;\n",
       "    }\n",
       "\n",
       "    .dataframe tbody tr th {\n",
       "        vertical-align: top;\n",
       "    }\n",
       "\n",
       "    .dataframe thead th {\n",
       "        text-align: right;\n",
       "    }\n",
       "</style>\n",
       "<table border=\"1\" class=\"dataframe\">\n",
       "  <thead>\n",
       "    <tr style=\"text-align: right;\">\n",
       "      <th></th>\n",
       "      <th>A</th>\n",
       "    </tr>\n",
       "  </thead>\n",
       "  <tbody>\n",
       "    <tr>\n",
       "      <th>0</th>\n",
       "      <td>2</td>\n",
       "    </tr>\n",
       "    <tr>\n",
       "      <th>1</th>\n",
       "      <td>3</td>\n",
       "    </tr>\n",
       "    <tr>\n",
       "      <th>2</th>\n",
       "      <td>4</td>\n",
       "    </tr>\n",
       "    <tr>\n",
       "      <th>3</th>\n",
       "      <td>5</td>\n",
       "    </tr>\n",
       "  </tbody>\n",
       "</table>\n",
       "</div>"
      ],
      "text/plain": [
       "   A\n",
       "0  2\n",
       "1  3\n",
       "2  4\n",
       "3  5"
      ]
     },
     "execution_count": 6,
     "metadata": {},
     "output_type": "execute_result"
    }
   ],
   "source": [
    "pd.DataFrame({'A':[2,3,4,5]})"
   ]
  },
  {
   "cell_type": "code",
   "execution_count": 7,
   "id": "8e008fe5-87fc-4233-bfed-5d3ff57a7198",
   "metadata": {},
   "outputs": [],
   "source": [
    "date = pd.date_range('20231001',periods=6)"
   ]
  },
  {
   "cell_type": "code",
   "execution_count": 8,
   "id": "08af3815-34f8-4091-a881-d4f6020fe28a",
   "metadata": {},
   "outputs": [
    {
     "data": {
      "text/plain": [
       "DatetimeIndex(['2023-10-01', '2023-10-02', '2023-10-03', '2023-10-04',\n",
       "               '2023-10-05', '2023-10-06'],\n",
       "              dtype='datetime64[ns]', freq='D')"
      ]
     },
     "execution_count": 8,
     "metadata": {},
     "output_type": "execute_result"
    }
   ],
   "source": [
    "date"
   ]
  },
  {
   "cell_type": "code",
   "execution_count": 9,
   "id": "e9d4c4dd-2ae6-4d60-bf0b-5aead99e7821",
   "metadata": {},
   "outputs": [],
   "source": [
    "df = pd.DataFrame(np.random.randn(6,4), index=date, columns=list('ABCD'))"
   ]
  },
  {
   "cell_type": "code",
   "execution_count": 10,
   "id": "4a6620a7-856b-4d22-a70c-27d84966506b",
   "metadata": {},
   "outputs": [
    {
     "data": {
      "text/plain": [
       "(6, 4)"
      ]
     },
     "execution_count": 10,
     "metadata": {},
     "output_type": "execute_result"
    }
   ],
   "source": [
    "df.shape"
   ]
  },
  {
   "cell_type": "code",
   "execution_count": 11,
   "id": "fae1c4cc-7a5d-44c4-95ca-65c3feea9343",
   "metadata": {},
   "outputs": [
    {
     "data": {
      "text/plain": [
       "DatetimeIndex(['2023-10-01', '2023-10-02', '2023-10-03', '2023-10-04',\n",
       "               '2023-10-05', '2023-10-06'],\n",
       "              dtype='datetime64[ns]', freq='D')"
      ]
     },
     "execution_count": 11,
     "metadata": {},
     "output_type": "execute_result"
    }
   ],
   "source": [
    "date"
   ]
  },
  {
   "cell_type": "code",
   "execution_count": 12,
   "id": "15517d6e-145a-4a1d-8198-794f0ac13a8a",
   "metadata": {},
   "outputs": [
    {
     "data": {
      "text/html": [
       "<div>\n",
       "<style scoped>\n",
       "    .dataframe tbody tr th:only-of-type {\n",
       "        vertical-align: middle;\n",
       "    }\n",
       "\n",
       "    .dataframe tbody tr th {\n",
       "        vertical-align: top;\n",
       "    }\n",
       "\n",
       "    .dataframe thead th {\n",
       "        text-align: right;\n",
       "    }\n",
       "</style>\n",
       "<table border=\"1\" class=\"dataframe\">\n",
       "  <thead>\n",
       "    <tr style=\"text-align: right;\">\n",
       "      <th></th>\n",
       "      <th>A</th>\n",
       "      <th>B</th>\n",
       "      <th>C</th>\n",
       "      <th>D</th>\n",
       "    </tr>\n",
       "  </thead>\n",
       "  <tbody>\n",
       "    <tr>\n",
       "      <th>2023-10-01</th>\n",
       "      <td>2.651368</td>\n",
       "      <td>-0.451561</td>\n",
       "      <td>-1.004638</td>\n",
       "      <td>0.069017</td>\n",
       "    </tr>\n",
       "    <tr>\n",
       "      <th>2023-10-02</th>\n",
       "      <td>0.621948</td>\n",
       "      <td>-2.256904</td>\n",
       "      <td>0.592594</td>\n",
       "      <td>-1.367119</td>\n",
       "    </tr>\n",
       "  </tbody>\n",
       "</table>\n",
       "</div>"
      ],
      "text/plain": [
       "                   A         B         C         D\n",
       "2023-10-01  2.651368 -0.451561 -1.004638  0.069017\n",
       "2023-10-02  0.621948 -2.256904  0.592594 -1.367119"
      ]
     },
     "execution_count": 12,
     "metadata": {},
     "output_type": "execute_result"
    }
   ],
   "source": [
    "df.head(2)"
   ]
  },
  {
   "cell_type": "code",
   "execution_count": 13,
   "id": "d1c6ee20-7e73-4f79-97d3-ea23a6d94b09",
   "metadata": {},
   "outputs": [
    {
     "data": {
      "text/html": [
       "<div>\n",
       "<style scoped>\n",
       "    .dataframe tbody tr th:only-of-type {\n",
       "        vertical-align: middle;\n",
       "    }\n",
       "\n",
       "    .dataframe tbody tr th {\n",
       "        vertical-align: top;\n",
       "    }\n",
       "\n",
       "    .dataframe thead th {\n",
       "        text-align: right;\n",
       "    }\n",
       "</style>\n",
       "<table border=\"1\" class=\"dataframe\">\n",
       "  <thead>\n",
       "    <tr style=\"text-align: right;\">\n",
       "      <th></th>\n",
       "      <th>A</th>\n",
       "      <th>B</th>\n",
       "      <th>C</th>\n",
       "      <th>D</th>\n",
       "    </tr>\n",
       "  </thead>\n",
       "  <tbody>\n",
       "    <tr>\n",
       "      <th>2023-10-04</th>\n",
       "      <td>-0.866264</td>\n",
       "      <td>0.082836</td>\n",
       "      <td>0.490667</td>\n",
       "      <td>-0.577476</td>\n",
       "    </tr>\n",
       "    <tr>\n",
       "      <th>2023-10-05</th>\n",
       "      <td>1.826385</td>\n",
       "      <td>-0.548742</td>\n",
       "      <td>-0.055113</td>\n",
       "      <td>-0.372383</td>\n",
       "    </tr>\n",
       "    <tr>\n",
       "      <th>2023-10-06</th>\n",
       "      <td>0.625869</td>\n",
       "      <td>-1.441124</td>\n",
       "      <td>0.434115</td>\n",
       "      <td>-0.380878</td>\n",
       "    </tr>\n",
       "  </tbody>\n",
       "</table>\n",
       "</div>"
      ],
      "text/plain": [
       "                   A         B         C         D\n",
       "2023-10-04 -0.866264  0.082836  0.490667 -0.577476\n",
       "2023-10-05  1.826385 -0.548742 -0.055113 -0.372383\n",
       "2023-10-06  0.625869 -1.441124  0.434115 -0.380878"
      ]
     },
     "execution_count": 13,
     "metadata": {},
     "output_type": "execute_result"
    }
   ],
   "source": [
    "df.tail(3)"
   ]
  },
  {
   "cell_type": "code",
   "execution_count": 14,
   "id": "ab657223-8e3b-45af-9594-10d0c151f8df",
   "metadata": {},
   "outputs": [
    {
     "data": {
      "text/plain": [
       "<bound method DataFrame.to_numpy of                    A         B         C         D\n",
       "2023-10-01  2.651368 -0.451561 -1.004638  0.069017\n",
       "2023-10-02  0.621948 -2.256904  0.592594 -1.367119\n",
       "2023-10-03  1.839581 -0.769587 -0.777981 -0.524811\n",
       "2023-10-04 -0.866264  0.082836  0.490667 -0.577476\n",
       "2023-10-05  1.826385 -0.548742 -0.055113 -0.372383\n",
       "2023-10-06  0.625869 -1.441124  0.434115 -0.380878>"
      ]
     },
     "execution_count": 14,
     "metadata": {},
     "output_type": "execute_result"
    }
   ],
   "source": [
    "df.to_numpy"
   ]
  },
  {
   "cell_type": "code",
   "execution_count": 15,
   "id": "56013418-9c9e-4b2b-a954-ef7ba4aa678b",
   "metadata": {},
   "outputs": [
    {
     "data": {
      "text/html": [
       "<div>\n",
       "<style scoped>\n",
       "    .dataframe tbody tr th:only-of-type {\n",
       "        vertical-align: middle;\n",
       "    }\n",
       "\n",
       "    .dataframe tbody tr th {\n",
       "        vertical-align: top;\n",
       "    }\n",
       "\n",
       "    .dataframe thead th {\n",
       "        text-align: right;\n",
       "    }\n",
       "</style>\n",
       "<table border=\"1\" class=\"dataframe\">\n",
       "  <thead>\n",
       "    <tr style=\"text-align: right;\">\n",
       "      <th></th>\n",
       "      <th>A</th>\n",
       "      <th>B</th>\n",
       "      <th>C</th>\n",
       "      <th>D</th>\n",
       "    </tr>\n",
       "  </thead>\n",
       "  <tbody>\n",
       "    <tr>\n",
       "      <th>count</th>\n",
       "      <td>6.000000</td>\n",
       "      <td>6.000000</td>\n",
       "      <td>6.000000</td>\n",
       "      <td>6.000000</td>\n",
       "    </tr>\n",
       "    <tr>\n",
       "      <th>mean</th>\n",
       "      <td>1.116481</td>\n",
       "      <td>-0.897513</td>\n",
       "      <td>-0.053393</td>\n",
       "      <td>-0.525608</td>\n",
       "    </tr>\n",
       "    <tr>\n",
       "      <th>std</th>\n",
       "      <td>1.248940</td>\n",
       "      <td>0.829629</td>\n",
       "      <td>0.690052</td>\n",
       "      <td>0.470921</td>\n",
       "    </tr>\n",
       "    <tr>\n",
       "      <th>min</th>\n",
       "      <td>-0.866264</td>\n",
       "      <td>-2.256904</td>\n",
       "      <td>-1.004638</td>\n",
       "      <td>-1.367119</td>\n",
       "    </tr>\n",
       "    <tr>\n",
       "      <th>25%</th>\n",
       "      <td>0.622928</td>\n",
       "      <td>-1.273239</td>\n",
       "      <td>-0.597264</td>\n",
       "      <td>-0.564309</td>\n",
       "    </tr>\n",
       "    <tr>\n",
       "      <th>50%</th>\n",
       "      <td>1.226127</td>\n",
       "      <td>-0.659165</td>\n",
       "      <td>0.189501</td>\n",
       "      <td>-0.452844</td>\n",
       "    </tr>\n",
       "    <tr>\n",
       "      <th>75%</th>\n",
       "      <td>1.836282</td>\n",
       "      <td>-0.475856</td>\n",
       "      <td>0.476529</td>\n",
       "      <td>-0.374506</td>\n",
       "    </tr>\n",
       "    <tr>\n",
       "      <th>max</th>\n",
       "      <td>2.651368</td>\n",
       "      <td>0.082836</td>\n",
       "      <td>0.592594</td>\n",
       "      <td>0.069017</td>\n",
       "    </tr>\n",
       "  </tbody>\n",
       "</table>\n",
       "</div>"
      ],
      "text/plain": [
       "              A         B         C         D\n",
       "count  6.000000  6.000000  6.000000  6.000000\n",
       "mean   1.116481 -0.897513 -0.053393 -0.525608\n",
       "std    1.248940  0.829629  0.690052  0.470921\n",
       "min   -0.866264 -2.256904 -1.004638 -1.367119\n",
       "25%    0.622928 -1.273239 -0.597264 -0.564309\n",
       "50%    1.226127 -0.659165  0.189501 -0.452844\n",
       "75%    1.836282 -0.475856  0.476529 -0.374506\n",
       "max    2.651368  0.082836  0.592594  0.069017"
      ]
     },
     "execution_count": 15,
     "metadata": {},
     "output_type": "execute_result"
    }
   ],
   "source": [
    "df.describe()"
   ]
  },
  {
   "cell_type": "code",
   "execution_count": 16,
   "id": "f94db1fa-2989-4854-a4eb-93a6e1981263",
   "metadata": {},
   "outputs": [
    {
     "data": {
      "text/html": [
       "<div>\n",
       "<style scoped>\n",
       "    .dataframe tbody tr th:only-of-type {\n",
       "        vertical-align: middle;\n",
       "    }\n",
       "\n",
       "    .dataframe tbody tr th {\n",
       "        vertical-align: top;\n",
       "    }\n",
       "\n",
       "    .dataframe thead th {\n",
       "        text-align: right;\n",
       "    }\n",
       "</style>\n",
       "<table border=\"1\" class=\"dataframe\">\n",
       "  <thead>\n",
       "    <tr style=\"text-align: right;\">\n",
       "      <th></th>\n",
       "      <th>2023-10-01</th>\n",
       "      <th>2023-10-02</th>\n",
       "      <th>2023-10-03</th>\n",
       "      <th>2023-10-04</th>\n",
       "      <th>2023-10-05</th>\n",
       "      <th>2023-10-06</th>\n",
       "    </tr>\n",
       "  </thead>\n",
       "  <tbody>\n",
       "    <tr>\n",
       "      <th>A</th>\n",
       "      <td>2.651368</td>\n",
       "      <td>0.621948</td>\n",
       "      <td>1.839581</td>\n",
       "      <td>-0.866264</td>\n",
       "      <td>1.826385</td>\n",
       "      <td>0.625869</td>\n",
       "    </tr>\n",
       "    <tr>\n",
       "      <th>B</th>\n",
       "      <td>-0.451561</td>\n",
       "      <td>-2.256904</td>\n",
       "      <td>-0.769587</td>\n",
       "      <td>0.082836</td>\n",
       "      <td>-0.548742</td>\n",
       "      <td>-1.441124</td>\n",
       "    </tr>\n",
       "    <tr>\n",
       "      <th>C</th>\n",
       "      <td>-1.004638</td>\n",
       "      <td>0.592594</td>\n",
       "      <td>-0.777981</td>\n",
       "      <td>0.490667</td>\n",
       "      <td>-0.055113</td>\n",
       "      <td>0.434115</td>\n",
       "    </tr>\n",
       "    <tr>\n",
       "      <th>D</th>\n",
       "      <td>0.069017</td>\n",
       "      <td>-1.367119</td>\n",
       "      <td>-0.524811</td>\n",
       "      <td>-0.577476</td>\n",
       "      <td>-0.372383</td>\n",
       "      <td>-0.380878</td>\n",
       "    </tr>\n",
       "  </tbody>\n",
       "</table>\n",
       "</div>"
      ],
      "text/plain": [
       "   2023-10-01  2023-10-02  2023-10-03  2023-10-04  2023-10-05  2023-10-06\n",
       "A    2.651368    0.621948    1.839581   -0.866264    1.826385    0.625869\n",
       "B   -0.451561   -2.256904   -0.769587    0.082836   -0.548742   -1.441124\n",
       "C   -1.004638    0.592594   -0.777981    0.490667   -0.055113    0.434115\n",
       "D    0.069017   -1.367119   -0.524811   -0.577476   -0.372383   -0.380878"
      ]
     },
     "execution_count": 16,
     "metadata": {},
     "output_type": "execute_result"
    }
   ],
   "source": [
    "df.T"
   ]
  },
  {
   "cell_type": "code",
   "execution_count": 17,
   "id": "58ebe48f-1791-415b-a770-e01389f93f4f",
   "metadata": {},
   "outputs": [
    {
     "data": {
      "text/html": [
       "<div>\n",
       "<style scoped>\n",
       "    .dataframe tbody tr th:only-of-type {\n",
       "        vertical-align: middle;\n",
       "    }\n",
       "\n",
       "    .dataframe tbody tr th {\n",
       "        vertical-align: top;\n",
       "    }\n",
       "\n",
       "    .dataframe thead th {\n",
       "        text-align: right;\n",
       "    }\n",
       "</style>\n",
       "<table border=\"1\" class=\"dataframe\">\n",
       "  <thead>\n",
       "    <tr style=\"text-align: right;\">\n",
       "      <th></th>\n",
       "      <th>A</th>\n",
       "      <th>B</th>\n",
       "      <th>C</th>\n",
       "      <th>D</th>\n",
       "    </tr>\n",
       "  </thead>\n",
       "  <tbody>\n",
       "    <tr>\n",
       "      <th>2023-10-01</th>\n",
       "      <td>2.651368</td>\n",
       "      <td>-0.451561</td>\n",
       "      <td>-1.004638</td>\n",
       "      <td>0.069017</td>\n",
       "    </tr>\n",
       "    <tr>\n",
       "      <th>2023-10-02</th>\n",
       "      <td>0.621948</td>\n",
       "      <td>-2.256904</td>\n",
       "      <td>0.592594</td>\n",
       "      <td>-1.367119</td>\n",
       "    </tr>\n",
       "    <tr>\n",
       "      <th>2023-10-03</th>\n",
       "      <td>1.839581</td>\n",
       "      <td>-0.769587</td>\n",
       "      <td>-0.777981</td>\n",
       "      <td>-0.524811</td>\n",
       "    </tr>\n",
       "    <tr>\n",
       "      <th>2023-10-04</th>\n",
       "      <td>-0.866264</td>\n",
       "      <td>0.082836</td>\n",
       "      <td>0.490667</td>\n",
       "      <td>-0.577476</td>\n",
       "    </tr>\n",
       "    <tr>\n",
       "      <th>2023-10-05</th>\n",
       "      <td>1.826385</td>\n",
       "      <td>-0.548742</td>\n",
       "      <td>-0.055113</td>\n",
       "      <td>-0.372383</td>\n",
       "    </tr>\n",
       "    <tr>\n",
       "      <th>2023-10-06</th>\n",
       "      <td>0.625869</td>\n",
       "      <td>-1.441124</td>\n",
       "      <td>0.434115</td>\n",
       "      <td>-0.380878</td>\n",
       "    </tr>\n",
       "  </tbody>\n",
       "</table>\n",
       "</div>"
      ],
      "text/plain": [
       "                   A         B         C         D\n",
       "2023-10-01  2.651368 -0.451561 -1.004638  0.069017\n",
       "2023-10-02  0.621948 -2.256904  0.592594 -1.367119\n",
       "2023-10-03  1.839581 -0.769587 -0.777981 -0.524811\n",
       "2023-10-04 -0.866264  0.082836  0.490667 -0.577476\n",
       "2023-10-05  1.826385 -0.548742 -0.055113 -0.372383\n",
       "2023-10-06  0.625869 -1.441124  0.434115 -0.380878"
      ]
     },
     "execution_count": 17,
     "metadata": {},
     "output_type": "execute_result"
    }
   ],
   "source": [
    "df.sort_index(axis=0, ascending=True)"
   ]
  },
  {
   "cell_type": "code",
   "execution_count": 18,
   "id": "ed5282a2-ddf4-4c05-8639-638de46f26c7",
   "metadata": {},
   "outputs": [
    {
     "data": {
      "text/html": [
       "<div>\n",
       "<style scoped>\n",
       "    .dataframe tbody tr th:only-of-type {\n",
       "        vertical-align: middle;\n",
       "    }\n",
       "\n",
       "    .dataframe tbody tr th {\n",
       "        vertical-align: top;\n",
       "    }\n",
       "\n",
       "    .dataframe thead th {\n",
       "        text-align: right;\n",
       "    }\n",
       "</style>\n",
       "<table border=\"1\" class=\"dataframe\">\n",
       "  <thead>\n",
       "    <tr style=\"text-align: right;\">\n",
       "      <th></th>\n",
       "      <th>A</th>\n",
       "      <th>B</th>\n",
       "      <th>C</th>\n",
       "      <th>D</th>\n",
       "    </tr>\n",
       "  </thead>\n",
       "  <tbody>\n",
       "    <tr>\n",
       "      <th>2023-10-04</th>\n",
       "      <td>-0.866264</td>\n",
       "      <td>0.082836</td>\n",
       "      <td>0.490667</td>\n",
       "      <td>-0.577476</td>\n",
       "    </tr>\n",
       "    <tr>\n",
       "      <th>2023-10-02</th>\n",
       "      <td>0.621948</td>\n",
       "      <td>-2.256904</td>\n",
       "      <td>0.592594</td>\n",
       "      <td>-1.367119</td>\n",
       "    </tr>\n",
       "    <tr>\n",
       "      <th>2023-10-06</th>\n",
       "      <td>0.625869</td>\n",
       "      <td>-1.441124</td>\n",
       "      <td>0.434115</td>\n",
       "      <td>-0.380878</td>\n",
       "    </tr>\n",
       "    <tr>\n",
       "      <th>2023-10-05</th>\n",
       "      <td>1.826385</td>\n",
       "      <td>-0.548742</td>\n",
       "      <td>-0.055113</td>\n",
       "      <td>-0.372383</td>\n",
       "    </tr>\n",
       "    <tr>\n",
       "      <th>2023-10-03</th>\n",
       "      <td>1.839581</td>\n",
       "      <td>-0.769587</td>\n",
       "      <td>-0.777981</td>\n",
       "      <td>-0.524811</td>\n",
       "    </tr>\n",
       "    <tr>\n",
       "      <th>2023-10-01</th>\n",
       "      <td>2.651368</td>\n",
       "      <td>-0.451561</td>\n",
       "      <td>-1.004638</td>\n",
       "      <td>0.069017</td>\n",
       "    </tr>\n",
       "  </tbody>\n",
       "</table>\n",
       "</div>"
      ],
      "text/plain": [
       "                   A         B         C         D\n",
       "2023-10-04 -0.866264  0.082836  0.490667 -0.577476\n",
       "2023-10-02  0.621948 -2.256904  0.592594 -1.367119\n",
       "2023-10-06  0.625869 -1.441124  0.434115 -0.380878\n",
       "2023-10-05  1.826385 -0.548742 -0.055113 -0.372383\n",
       "2023-10-03  1.839581 -0.769587 -0.777981 -0.524811\n",
       "2023-10-01  2.651368 -0.451561 -1.004638  0.069017"
      ]
     },
     "execution_count": 18,
     "metadata": {},
     "output_type": "execute_result"
    }
   ],
   "source": [
    "df.sort_values(by=\"A\")"
   ]
  },
  {
   "cell_type": "code",
   "execution_count": 19,
   "id": "6fe0169a-44cd-48fb-9580-8b0e28ad538c",
   "metadata": {},
   "outputs": [],
   "source": [
    "a = [2,4,2,6,1,3]"
   ]
  },
  {
   "cell_type": "code",
   "execution_count": 20,
   "id": "e1787ab0-be87-404d-ab7d-9d777a0c0d1e",
   "metadata": {},
   "outputs": [],
   "source": [
    "arr = np.array(a)"
   ]
  },
  {
   "cell_type": "code",
   "execution_count": 21,
   "id": "22fa48e0-59cf-4bec-8069-d8fbd0e21a91",
   "metadata": {},
   "outputs": [],
   "source": [
    "arr.sort()"
   ]
  },
  {
   "cell_type": "code",
   "execution_count": 22,
   "id": "fbd30821-5515-48bb-ac00-a196ef183e44",
   "metadata": {},
   "outputs": [
    {
     "data": {
      "text/plain": [
       "array([1, 2, 2, 3, 4, 6])"
      ]
     },
     "execution_count": 22,
     "metadata": {},
     "output_type": "execute_result"
    }
   ],
   "source": [
    "arr"
   ]
  },
  {
   "cell_type": "code",
   "execution_count": 23,
   "id": "05151a8c-8788-4e4e-bc57-86be1be8b96e",
   "metadata": {},
   "outputs": [
    {
     "data": {
      "text/plain": [
       "(6,)"
      ]
     },
     "execution_count": 23,
     "metadata": {},
     "output_type": "execute_result"
    }
   ],
   "source": [
    "arr.shape"
   ]
  },
  {
   "cell_type": "code",
   "execution_count": 24,
   "id": "df43077a-6a56-4cea-b81c-bae1739acb45",
   "metadata": {},
   "outputs": [
    {
     "data": {
      "text/plain": [
       "(1, 6)"
      ]
     },
     "execution_count": 24,
     "metadata": {},
     "output_type": "execute_result"
    }
   ],
   "source": [
    "temp = arr[np.newaxis,:]\n",
    "temp.shape"
   ]
  },
  {
   "cell_type": "code",
   "execution_count": 25,
   "id": "b893539d-c836-46aa-aba4-0e1d6886553f",
   "metadata": {},
   "outputs": [
    {
     "data": {
      "text/plain": [
       "array([[1, 2, 2, 3, 4, 6]])"
      ]
     },
     "execution_count": 25,
     "metadata": {},
     "output_type": "execute_result"
    }
   ],
   "source": [
    "temp"
   ]
  },
  {
   "cell_type": "code",
   "execution_count": 26,
   "id": "029d7751-180e-4ab2-bbbf-080285888dce",
   "metadata": {},
   "outputs": [],
   "source": [
    "temp = arr[:,np.newaxis]"
   ]
  },
  {
   "cell_type": "code",
   "execution_count": 27,
   "id": "deacc49e-e54a-4472-8a1d-b7c951e532ce",
   "metadata": {},
   "outputs": [
    {
     "data": {
      "text/plain": [
       "array([[1],\n",
       "       [2],\n",
       "       [2],\n",
       "       [3],\n",
       "       [4],\n",
       "       [6]])"
      ]
     },
     "execution_count": 27,
     "metadata": {},
     "output_type": "execute_result"
    }
   ],
   "source": [
    "temp"
   ]
  },
  {
   "cell_type": "code",
   "execution_count": 28,
   "id": "50b8a80b-f271-4beb-9908-1e5a713a71e2",
   "metadata": {},
   "outputs": [
    {
     "data": {
      "text/html": [
       "<div>\n",
       "<style scoped>\n",
       "    .dataframe tbody tr th:only-of-type {\n",
       "        vertical-align: middle;\n",
       "    }\n",
       "\n",
       "    .dataframe tbody tr th {\n",
       "        vertical-align: top;\n",
       "    }\n",
       "\n",
       "    .dataframe thead th {\n",
       "        text-align: right;\n",
       "    }\n",
       "</style>\n",
       "<table border=\"1\" class=\"dataframe\">\n",
       "  <thead>\n",
       "    <tr style=\"text-align: right;\">\n",
       "      <th></th>\n",
       "      <th>A</th>\n",
       "      <th>B</th>\n",
       "      <th>C</th>\n",
       "      <th>D</th>\n",
       "    </tr>\n",
       "  </thead>\n",
       "  <tbody>\n",
       "    <tr>\n",
       "      <th>2023-10-01</th>\n",
       "      <td>2.651368</td>\n",
       "      <td>-0.451561</td>\n",
       "      <td>-1.004638</td>\n",
       "      <td>0.069017</td>\n",
       "    </tr>\n",
       "    <tr>\n",
       "      <th>2023-10-02</th>\n",
       "      <td>0.621948</td>\n",
       "      <td>-2.256904</td>\n",
       "      <td>0.592594</td>\n",
       "      <td>-1.367119</td>\n",
       "    </tr>\n",
       "    <tr>\n",
       "      <th>2023-10-03</th>\n",
       "      <td>1.839581</td>\n",
       "      <td>-0.769587</td>\n",
       "      <td>-0.777981</td>\n",
       "      <td>-0.524811</td>\n",
       "    </tr>\n",
       "    <tr>\n",
       "      <th>2023-10-04</th>\n",
       "      <td>-0.866264</td>\n",
       "      <td>0.082836</td>\n",
       "      <td>0.490667</td>\n",
       "      <td>-0.577476</td>\n",
       "    </tr>\n",
       "    <tr>\n",
       "      <th>2023-10-05</th>\n",
       "      <td>1.826385</td>\n",
       "      <td>-0.548742</td>\n",
       "      <td>-0.055113</td>\n",
       "      <td>-0.372383</td>\n",
       "    </tr>\n",
       "    <tr>\n",
       "      <th>2023-10-06</th>\n",
       "      <td>0.625869</td>\n",
       "      <td>-1.441124</td>\n",
       "      <td>0.434115</td>\n",
       "      <td>-0.380878</td>\n",
       "    </tr>\n",
       "  </tbody>\n",
       "</table>\n",
       "</div>"
      ],
      "text/plain": [
       "                   A         B         C         D\n",
       "2023-10-01  2.651368 -0.451561 -1.004638  0.069017\n",
       "2023-10-02  0.621948 -2.256904  0.592594 -1.367119\n",
       "2023-10-03  1.839581 -0.769587 -0.777981 -0.524811\n",
       "2023-10-04 -0.866264  0.082836  0.490667 -0.577476\n",
       "2023-10-05  1.826385 -0.548742 -0.055113 -0.372383\n",
       "2023-10-06  0.625869 -1.441124  0.434115 -0.380878"
      ]
     },
     "execution_count": 28,
     "metadata": {},
     "output_type": "execute_result"
    }
   ],
   "source": [
    "df"
   ]
  },
  {
   "cell_type": "code",
   "execution_count": 29,
   "id": "90a16b5a-4312-42e9-80db-dc2ca6833875",
   "metadata": {},
   "outputs": [],
   "source": [
    "df.to_csv('df.csv')"
   ]
  },
  {
   "cell_type": "code",
   "execution_count": 30,
   "id": "36467d0c-26af-4158-8a30-5fb0177217f5",
   "metadata": {},
   "outputs": [],
   "source": [
    "data = pd.read_csv('df.csv')"
   ]
  },
  {
   "cell_type": "code",
   "execution_count": 31,
   "id": "4c4f3537-5276-4dc2-a2ad-5297995704df",
   "metadata": {},
   "outputs": [
    {
     "data": {
      "text/html": [
       "<div>\n",
       "<style scoped>\n",
       "    .dataframe tbody tr th:only-of-type {\n",
       "        vertical-align: middle;\n",
       "    }\n",
       "\n",
       "    .dataframe tbody tr th {\n",
       "        vertical-align: top;\n",
       "    }\n",
       "\n",
       "    .dataframe thead th {\n",
       "        text-align: right;\n",
       "    }\n",
       "</style>\n",
       "<table border=\"1\" class=\"dataframe\">\n",
       "  <thead>\n",
       "    <tr style=\"text-align: right;\">\n",
       "      <th></th>\n",
       "      <th>Unnamed: 0</th>\n",
       "      <th>A</th>\n",
       "      <th>B</th>\n",
       "      <th>C</th>\n",
       "      <th>D</th>\n",
       "    </tr>\n",
       "  </thead>\n",
       "  <tbody>\n",
       "    <tr>\n",
       "      <th>0</th>\n",
       "      <td>2023-10-01</td>\n",
       "      <td>2.651368</td>\n",
       "      <td>-0.451561</td>\n",
       "      <td>-1.004638</td>\n",
       "      <td>0.069017</td>\n",
       "    </tr>\n",
       "    <tr>\n",
       "      <th>1</th>\n",
       "      <td>2023-10-02</td>\n",
       "      <td>0.621948</td>\n",
       "      <td>-2.256904</td>\n",
       "      <td>0.592594</td>\n",
       "      <td>-1.367119</td>\n",
       "    </tr>\n",
       "    <tr>\n",
       "      <th>2</th>\n",
       "      <td>2023-10-03</td>\n",
       "      <td>1.839581</td>\n",
       "      <td>-0.769587</td>\n",
       "      <td>-0.777981</td>\n",
       "      <td>-0.524811</td>\n",
       "    </tr>\n",
       "    <tr>\n",
       "      <th>3</th>\n",
       "      <td>2023-10-04</td>\n",
       "      <td>-0.866264</td>\n",
       "      <td>0.082836</td>\n",
       "      <td>0.490667</td>\n",
       "      <td>-0.577476</td>\n",
       "    </tr>\n",
       "    <tr>\n",
       "      <th>4</th>\n",
       "      <td>2023-10-05</td>\n",
       "      <td>1.826385</td>\n",
       "      <td>-0.548742</td>\n",
       "      <td>-0.055113</td>\n",
       "      <td>-0.372383</td>\n",
       "    </tr>\n",
       "    <tr>\n",
       "      <th>5</th>\n",
       "      <td>2023-10-06</td>\n",
       "      <td>0.625869</td>\n",
       "      <td>-1.441124</td>\n",
       "      <td>0.434115</td>\n",
       "      <td>-0.380878</td>\n",
       "    </tr>\n",
       "  </tbody>\n",
       "</table>\n",
       "</div>"
      ],
      "text/plain": [
       "   Unnamed: 0         A         B         C         D\n",
       "0  2023-10-01  2.651368 -0.451561 -1.004638  0.069017\n",
       "1  2023-10-02  0.621948 -2.256904  0.592594 -1.367119\n",
       "2  2023-10-03  1.839581 -0.769587 -0.777981 -0.524811\n",
       "3  2023-10-04 -0.866264  0.082836  0.490667 -0.577476\n",
       "4  2023-10-05  1.826385 -0.548742 -0.055113 -0.372383\n",
       "5  2023-10-06  0.625869 -1.441124  0.434115 -0.380878"
      ]
     },
     "execution_count": 31,
     "metadata": {},
     "output_type": "execute_result"
    }
   ],
   "source": [
    "data"
   ]
  },
  {
   "cell_type": "code",
   "execution_count": 32,
   "id": "16bec3da-432a-459a-98cf-d6f28f91c635",
   "metadata": {},
   "outputs": [
    {
     "data": {
      "text/html": [
       "<div>\n",
       "<style scoped>\n",
       "    .dataframe tbody tr th:only-of-type {\n",
       "        vertical-align: middle;\n",
       "    }\n",
       "\n",
       "    .dataframe tbody tr th {\n",
       "        vertical-align: top;\n",
       "    }\n",
       "\n",
       "    .dataframe thead th {\n",
       "        text-align: right;\n",
       "    }\n",
       "</style>\n",
       "<table border=\"1\" class=\"dataframe\">\n",
       "  <thead>\n",
       "    <tr style=\"text-align: right;\">\n",
       "      <th></th>\n",
       "      <th>A</th>\n",
       "      <th>B</th>\n",
       "      <th>C</th>\n",
       "      <th>D</th>\n",
       "    </tr>\n",
       "  </thead>\n",
       "  <tbody>\n",
       "    <tr>\n",
       "      <th>2023-10-01</th>\n",
       "      <td>2.651368</td>\n",
       "      <td>-0.451561</td>\n",
       "      <td>-1.004638</td>\n",
       "      <td>0.069017</td>\n",
       "    </tr>\n",
       "    <tr>\n",
       "      <th>2023-10-02</th>\n",
       "      <td>0.621948</td>\n",
       "      <td>-2.256904</td>\n",
       "      <td>0.592594</td>\n",
       "      <td>-1.367119</td>\n",
       "    </tr>\n",
       "    <tr>\n",
       "      <th>2023-10-03</th>\n",
       "      <td>1.839581</td>\n",
       "      <td>-0.769587</td>\n",
       "      <td>-0.777981</td>\n",
       "      <td>-0.524811</td>\n",
       "    </tr>\n",
       "    <tr>\n",
       "      <th>2023-10-04</th>\n",
       "      <td>-0.866264</td>\n",
       "      <td>0.082836</td>\n",
       "      <td>0.490667</td>\n",
       "      <td>-0.577476</td>\n",
       "    </tr>\n",
       "    <tr>\n",
       "      <th>2023-10-05</th>\n",
       "      <td>1.826385</td>\n",
       "      <td>-0.548742</td>\n",
       "      <td>-0.055113</td>\n",
       "      <td>-0.372383</td>\n",
       "    </tr>\n",
       "    <tr>\n",
       "      <th>2023-10-06</th>\n",
       "      <td>0.625869</td>\n",
       "      <td>-1.441124</td>\n",
       "      <td>0.434115</td>\n",
       "      <td>-0.380878</td>\n",
       "    </tr>\n",
       "  </tbody>\n",
       "</table>\n",
       "</div>"
      ],
      "text/plain": [
       "                   A         B         C         D\n",
       "2023-10-01  2.651368 -0.451561 -1.004638  0.069017\n",
       "2023-10-02  0.621948 -2.256904  0.592594 -1.367119\n",
       "2023-10-03  1.839581 -0.769587 -0.777981 -0.524811\n",
       "2023-10-04 -0.866264  0.082836  0.490667 -0.577476\n",
       "2023-10-05  1.826385 -0.548742 -0.055113 -0.372383\n",
       "2023-10-06  0.625869 -1.441124  0.434115 -0.380878"
      ]
     },
     "execution_count": 32,
     "metadata": {},
     "output_type": "execute_result"
    }
   ],
   "source": [
    "df"
   ]
  },
  {
   "cell_type": "code",
   "execution_count": 33,
   "id": "9c6a53dd-174f-4000-aa9f-0225ccae1412",
   "metadata": {},
   "outputs": [],
   "source": [
    "left = pd.DataFrame({'key':['A','A'], 'lval':[1,2]})\n",
    "right = pd.DataFrame({'key':['A','A'], 'rval':[3,4]})"
   ]
  },
  {
   "cell_type": "code",
   "execution_count": 34,
   "id": "e3252e8e-030b-4dce-be70-9bd35b14605a",
   "metadata": {},
   "outputs": [
    {
     "data": {
      "text/html": [
       "<div>\n",
       "<style scoped>\n",
       "    .dataframe tbody tr th:only-of-type {\n",
       "        vertical-align: middle;\n",
       "    }\n",
       "\n",
       "    .dataframe tbody tr th {\n",
       "        vertical-align: top;\n",
       "    }\n",
       "\n",
       "    .dataframe thead th {\n",
       "        text-align: right;\n",
       "    }\n",
       "</style>\n",
       "<table border=\"1\" class=\"dataframe\">\n",
       "  <thead>\n",
       "    <tr style=\"text-align: right;\">\n",
       "      <th></th>\n",
       "      <th>key</th>\n",
       "      <th>rval</th>\n",
       "    </tr>\n",
       "  </thead>\n",
       "  <tbody>\n",
       "    <tr>\n",
       "      <th>0</th>\n",
       "      <td>A</td>\n",
       "      <td>3</td>\n",
       "    </tr>\n",
       "    <tr>\n",
       "      <th>1</th>\n",
       "      <td>A</td>\n",
       "      <td>4</td>\n",
       "    </tr>\n",
       "  </tbody>\n",
       "</table>\n",
       "</div>"
      ],
      "text/plain": [
       "  key  rval\n",
       "0   A     3\n",
       "1   A     4"
      ]
     },
     "execution_count": 34,
     "metadata": {},
     "output_type": "execute_result"
    }
   ],
   "source": [
    "right"
   ]
  },
  {
   "cell_type": "code",
   "execution_count": 35,
   "id": "ff711fc0-447b-49c7-86bb-f6ff15350c80",
   "metadata": {},
   "outputs": [
    {
     "data": {
      "text/html": [
       "<div>\n",
       "<style scoped>\n",
       "    .dataframe tbody tr th:only-of-type {\n",
       "        vertical-align: middle;\n",
       "    }\n",
       "\n",
       "    .dataframe tbody tr th {\n",
       "        vertical-align: top;\n",
       "    }\n",
       "\n",
       "    .dataframe thead th {\n",
       "        text-align: right;\n",
       "    }\n",
       "</style>\n",
       "<table border=\"1\" class=\"dataframe\">\n",
       "  <thead>\n",
       "    <tr style=\"text-align: right;\">\n",
       "      <th></th>\n",
       "      <th>key</th>\n",
       "      <th>lval</th>\n",
       "      <th>rval</th>\n",
       "    </tr>\n",
       "  </thead>\n",
       "  <tbody>\n",
       "    <tr>\n",
       "      <th>0</th>\n",
       "      <td>A</td>\n",
       "      <td>1</td>\n",
       "      <td>3</td>\n",
       "    </tr>\n",
       "    <tr>\n",
       "      <th>1</th>\n",
       "      <td>A</td>\n",
       "      <td>1</td>\n",
       "      <td>4</td>\n",
       "    </tr>\n",
       "    <tr>\n",
       "      <th>2</th>\n",
       "      <td>A</td>\n",
       "      <td>2</td>\n",
       "      <td>3</td>\n",
       "    </tr>\n",
       "    <tr>\n",
       "      <th>3</th>\n",
       "      <td>A</td>\n",
       "      <td>2</td>\n",
       "      <td>4</td>\n",
       "    </tr>\n",
       "  </tbody>\n",
       "</table>\n",
       "</div>"
      ],
      "text/plain": [
       "  key  lval  rval\n",
       "0   A     1     3\n",
       "1   A     1     4\n",
       "2   A     2     3\n",
       "3   A     2     4"
      ]
     },
     "execution_count": 35,
     "metadata": {},
     "output_type": "execute_result"
    }
   ],
   "source": [
    "pd.merge(left,right, on=\"key\")"
   ]
  },
  {
   "cell_type": "code",
   "execution_count": 36,
   "id": "7c00d2ea",
   "metadata": {},
   "outputs": [],
   "source": [
    "rng = pd.date_range(\"8/10/2002\", periods=100, freq=\"S\")"
   ]
  },
  {
   "cell_type": "code",
   "execution_count": 37,
   "id": "2c16cfd6",
   "metadata": {},
   "outputs": [],
   "source": [
    "ts = pd.Series(np.random.randint(0,500, len(rng)), index=rng)"
   ]
  },
  {
   "cell_type": "code",
   "execution_count": 38,
   "id": "c1c3ccab",
   "metadata": {},
   "outputs": [
    {
     "data": {
      "text/plain": [
       "2002-08-10    22761\n",
       "Freq: 5T, dtype: int64"
      ]
     },
     "execution_count": 38,
     "metadata": {},
     "output_type": "execute_result"
    }
   ],
   "source": [
    "ts.resample(\"5Min\").sum()"
   ]
  },
  {
   "cell_type": "code",
   "execution_count": 39,
   "id": "1ea52275",
   "metadata": {},
   "outputs": [
    {
     "data": {
      "text/html": [
       "<div>\n",
       "<style scoped>\n",
       "    .dataframe tbody tr th:only-of-type {\n",
       "        vertical-align: middle;\n",
       "    }\n",
       "\n",
       "    .dataframe tbody tr th {\n",
       "        vertical-align: top;\n",
       "    }\n",
       "\n",
       "    .dataframe thead th {\n",
       "        text-align: right;\n",
       "    }\n",
       "</style>\n",
       "<table border=\"1\" class=\"dataframe\">\n",
       "  <thead>\n",
       "    <tr style=\"text-align: right;\">\n",
       "      <th></th>\n",
       "      <th>A</th>\n",
       "      <th>B</th>\n",
       "      <th>C</th>\n",
       "      <th>D</th>\n",
       "    </tr>\n",
       "  </thead>\n",
       "  <tbody>\n",
       "    <tr>\n",
       "      <th>2023-10-01</th>\n",
       "      <td>2.651368</td>\n",
       "      <td>-0.451561</td>\n",
       "      <td>-1.004638</td>\n",
       "      <td>0.069017</td>\n",
       "    </tr>\n",
       "    <tr>\n",
       "      <th>2023-10-02</th>\n",
       "      <td>0.621948</td>\n",
       "      <td>-2.256904</td>\n",
       "      <td>0.592594</td>\n",
       "      <td>-1.367119</td>\n",
       "    </tr>\n",
       "    <tr>\n",
       "      <th>2023-10-03</th>\n",
       "      <td>1.839581</td>\n",
       "      <td>-0.769587</td>\n",
       "      <td>-0.777981</td>\n",
       "      <td>-0.524811</td>\n",
       "    </tr>\n",
       "    <tr>\n",
       "      <th>2023-10-04</th>\n",
       "      <td>-0.866264</td>\n",
       "      <td>0.082836</td>\n",
       "      <td>0.490667</td>\n",
       "      <td>-0.577476</td>\n",
       "    </tr>\n",
       "    <tr>\n",
       "      <th>2023-10-05</th>\n",
       "      <td>1.826385</td>\n",
       "      <td>-0.548742</td>\n",
       "      <td>-0.055113</td>\n",
       "      <td>-0.372383</td>\n",
       "    </tr>\n",
       "    <tr>\n",
       "      <th>2023-10-06</th>\n",
       "      <td>0.625869</td>\n",
       "      <td>-1.441124</td>\n",
       "      <td>0.434115</td>\n",
       "      <td>-0.380878</td>\n",
       "    </tr>\n",
       "  </tbody>\n",
       "</table>\n",
       "</div>"
      ],
      "text/plain": [
       "                   A         B         C         D\n",
       "2023-10-01  2.651368 -0.451561 -1.004638  0.069017\n",
       "2023-10-02  0.621948 -2.256904  0.592594 -1.367119\n",
       "2023-10-03  1.839581 -0.769587 -0.777981 -0.524811\n",
       "2023-10-04 -0.866264  0.082836  0.490667 -0.577476\n",
       "2023-10-05  1.826385 -0.548742 -0.055113 -0.372383\n",
       "2023-10-06  0.625869 -1.441124  0.434115 -0.380878"
      ]
     },
     "execution_count": 39,
     "metadata": {},
     "output_type": "execute_result"
    }
   ],
   "source": [
    "df"
   ]
  },
  {
   "cell_type": "code",
   "execution_count": 46,
   "metadata": {},
   "outputs": [
    {
     "data": {
      "text/html": [
       "<div>\n",
       "<style scoped>\n",
       "    .dataframe tbody tr th:only-of-type {\n",
       "        vertical-align: middle;\n",
       "    }\n",
       "\n",
       "    .dataframe tbody tr th {\n",
       "        vertical-align: top;\n",
       "    }\n",
       "\n",
       "    .dataframe thead th {\n",
       "        text-align: right;\n",
       "    }\n",
       "</style>\n",
       "<table border=\"1\" class=\"dataframe\">\n",
       "  <thead>\n",
       "    <tr style=\"text-align: right;\">\n",
       "      <th></th>\n",
       "      <th>A</th>\n",
       "      <th>B</th>\n",
       "      <th>C</th>\n",
       "      <th>D</th>\n",
       "    </tr>\n",
       "  </thead>\n",
       "  <tbody>\n",
       "  </tbody>\n",
       "</table>\n",
       "</div>"
      ],
      "text/plain": [
       "Empty DataFrame\n",
       "Columns: [A, B, C, D]\n",
       "Index: []"
      ]
     },
     "execution_count": 46,
     "metadata": {},
     "output_type": "execute_result"
    }
   ],
   "source": [
    "df"
   ]
  },
  {
   "cell_type": "code",
   "execution_count": 9,
   "metadata": {},
   "outputs": [
    {
     "name": "stdout",
     "output_type": "stream",
     "text": [
      "[-1, -2, -3, -4, -5, -6, -7, -8, -9, -10]\n"
     ]
    }
   ],
   "source": [
    "print([i for i in reversed(range(-10, 0))])"
   ]
  },
  {
   "cell_type": "code",
   "execution_count": 11,
   "metadata": {},
   "outputs": [
    {
     "data": {
      "text/plain": [
       "''"
      ]
     },
     "execution_count": 11,
     "metadata": {},
     "output_type": "execute_result"
    }
   ],
   "source": [
    "str = \"12345\"\n",
    "str[:-5]"
   ]
  },
  {
   "cell_type": "code",
   "execution_count": null,
   "metadata": {},
   "outputs": [],
   "source": []
  }
 ],
 "metadata": {
  "kernelspec": {
   "display_name": "Python 3 (ipykernel)",
   "language": "python",
   "name": "python3"
  },
  "language_info": {
   "codemirror_mode": {
    "name": "ipython",
    "version": 3
   },
   "file_extension": ".py",
   "mimetype": "text/x-python",
   "name": "python",
   "nbconvert_exporter": "python",
   "pygments_lexer": "ipython3",
   "version": "3.10.12"
  }
 },
 "nbformat": 4,
 "nbformat_minor": 5
}
